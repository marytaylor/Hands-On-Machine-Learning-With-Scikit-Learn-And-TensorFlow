{
 "cells": [
  {
   "cell_type": "markdown",
   "metadata": {},
   "source": [
    "### The Machine Learning Landscape"
   ]
  },
  {
   "cell_type": "markdown",
   "metadata": {},
   "source": [
    "<b>Definition</b><br>\n",
    "Machine Learning is the field of study that gives computers the ability to learn without being explicity programmed.\n",
    "<br>\n",
    "<br>\n",
    "<i> training set </i> - examples that the system uses to learn\n",
    "<br>\n",
    "<i> training instance </i> - each training example\n",
    "<br>\n",
    "<i> accuracy </i> - performance measure of model\n",
    "<br><br>\n",
    "Example)<br>\n",
    "Task (T) is set to flag spam for new emails, the experience (E) is the training data, and the performance measure (P) could be the ratio of correctly classified emails."
   ]
  },
  {
   "cell_type": "markdown",
   "metadata": {},
   "source": [
    "### Why Use Machine Learning?"
   ]
  },
  {
   "cell_type": "markdown",
   "metadata": {},
   "source": [
    "<ul>\n",
    "<li> Good for systems that require a lot of hand-tuning or long lists of rules. Code is simplified and performs better. </li>\n",
    "<li> Complex problems where there is no good solution using traditional approach. </i>\n",
    "<li> Fluctuating environments - ML can adapt </li>\n",
    "<li> Gaining insights about complex problems & large amounts of data. </i>\n",
    "</ul>"
   ]
  },
  {
   "cell_type": "markdown",
   "metadata": {},
   "source": [
    "### Types of Machine Learning Systems:"
   ]
  },
  {
   "cell_type": "markdown",
   "metadata": {},
   "source": [
    "### Supervised/Unsupervised Learning"
   ]
  },
  {
   "cell_type": "markdown",
   "metadata": {},
   "source": [
    "Can be classified based on amount/type of supervision used during training. Four major categories."
   ]
  },
  {
   "cell_type": "markdown",
   "metadata": {},
   "source": [
    "#### Supervised Learning"
   ]
  },
  {
   "cell_type": "markdown",
   "metadata": {},
   "source": [
    "<i> supervised learning </i> - training data used to feed algorithm contains the desired solutions."
   ]
  },
  {
   "cell_type": "markdown",
   "metadata": {},
   "source": [
    "<i>Classification</i> is an example.<br>\n",
    "Another is to predict a <i>target</i> numeric value, given a set of <i>features</i> called <i>predictors</i>. This type of task is called <i>regression</i>.\n",
    "<br>\n",
    "Some regression algorithms can be used for classificiation as well."
   ]
  },
  {
   "cell_type": "markdown",
   "metadata": {},
   "source": [
    "Note:<br>\n",
    "    In ML, an <i>attribute</i> is a data type (ex: \"Mileage\"), while a <i> feature </i> has several meanings depending on context, but usually means and attribute plus its value (ex: Milage = 15,000). Many people use the word interchangeably."
   ]
  },
  {
   "cell_type": "markdown",
   "metadata": {},
   "source": [
    "Some of the most important supervised learning algorithms (covered in the book):\n",
    "<br>\n",
    "<ul>\n",
    "<li> k-Nearest Neighbors </li>\n",
    "<li> Linear Regression </li>\n",
    "<li> Logistic Regression </li>\n",
    "<li> Support Vector Machines (SVMs)</li>\n",
    "<li> Decision Trees and Random Forests </li>\n",
    "<li> Neural Networks$^{2}$ </li>\n",
    "</ul>"
   ]
  },
  {
   "cell_type": "markdown",
   "metadata": {},
   "source": [
    "#### Unsupervised Learning"
   ]
  },
  {
   "cell_type": "markdown",
   "metadata": {},
   "source": [
    "<i>Unsupervised learning </i> - the training data is unlabeled and the system learns on its own."
   ]
  },
  {
   "cell_type": "markdown",
   "metadata": {},
   "source": [
    "<ul>\n",
    "<li>Clustering</li>\n",
    "         - k-Means\n",
    "<br>     - Hierarchical Cluster Analysis (HCA)\n",
    "<br>     - Expectation Maximization\n",
    "<br>    \n",
    "<li>Visualization and dimensionality reduction</li>\n",
    "         - Principal Component Analysis (PCA)\n",
    "<br>     - Kernel PCA\n",
    "<br>     - Locally-Linear Embedding (LLE)\n",
    "<br>     - t-distributed Stochastic Neighbor Embedding (t-SNE)\n",
    "<br>    \n",
    "<li>Association rule learning</li>\n",
    "         - Apirori\n",
    "<br>     - Eclat\n",
    "</ul>"
   ]
  },
  {
   "cell_type": "markdown",
   "metadata": {},
   "source": [
    "<i> feature extraction </i> -  starts from an initial set of measured data and builds derived values"
   ]
  },
  {
   "cell_type": "markdown",
   "metadata": {},
   "source": [
    "<i> anomaly detection </i> - finding outliers in a dataset"
   ]
  },
  {
   "cell_type": "markdown",
   "metadata": {},
   "source": [
    "<i> association rule learning </i> - dig into large amounts of data and discover interesting relations between attributes"
   ]
  },
  {
   "cell_type": "markdown",
   "metadata": {},
   "source": [
    "#### Semisupervised Learning"
   ]
  },
  {
   "cell_type": "markdown",
   "metadata": {},
   "source": [
    "<i> Semisupervised learning </i> - using partially labeled training data"
   ]
  },
  {
   "cell_type": "markdown",
   "metadata": {},
   "source": [
    "<i> Deep Belief Networks </i> (DBNs) are based on unsupervised components called <i>restricted Boltzmann machines</i> (RBMs) stacked on top of one another. RBMs are trained sequentially in an unsupervised manner, and then the whole system is fine-tuned using supervised learning techniques."
   ]
  },
  {
   "cell_type": "markdown",
   "metadata": {},
   "source": [
    "#### Reinforcement Learning"
   ]
  },
  {
   "cell_type": "markdown",
   "metadata": {},
   "source": [
    "<i>Agent</i> - the learning system which observes the environment, selects and performs actions, and get <i>rewards</i> in return (or <i>penalties</i>)."
   ]
  },
  {
   "cell_type": "markdown",
   "metadata": {},
   "source": [
    "<i> Policy </i> - the best strategy that is learned by the agent. This defines what action the agent should choose when it is in a given situation."
   ]
  },
  {
   "cell_type": "markdown",
   "metadata": {},
   "source": [
    "### Batch and Online Learning"
   ]
  },
  {
   "cell_type": "markdown",
   "metadata": {},
   "source": [
    "criterion to classify ML is whether or not the system can learn incrementally from a stream of incoming data."
   ]
  },
  {
   "cell_type": "markdown",
   "metadata": {},
   "source": [
    "#### Batch learning"
   ]
  },
  {
   "cell_type": "markdown",
   "metadata": {},
   "source": [
    "<i> batch learning </i> - the system is incapable of learning incrementally. This takes awhile to do so it is typically done offline.\n",
    "<br>\n",
    "<i> offline learning </i> - first the system is trained, and then it is launched into production without learning more."
   ]
  },
  {
   "cell_type": "markdown",
   "metadata": {},
   "source": [
    "#### Online learning"
   ]
  },
  {
   "cell_type": "markdown",
   "metadata": {},
   "source": [
    "<i> online learning</i> - train the system incrementally by feeding it data instances sequentially, either individually or by small groups called <i>mini-batches</i>."
   ]
  },
  {
   "cell_type": "markdown",
   "metadata": {},
   "source": [
    "<i>out-of-core learning</i> - using online learning to train systems on huge datasets that cannot fit in one machine's main memory.\n",
    "<br><br>\n",
    "Note: This is usually done offline, so it may also be called <i>incremental learning</i>."
   ]
  },
  {
   "cell_type": "markdown",
   "metadata": {},
   "source": [
    "<i> Learning rate </i> - how fast they should adapt to changing data."
   ]
  },
  {
   "cell_type": "markdown",
   "metadata": {},
   "source": [
    "Using a high learning rate could result in a few issues, such as faulting data coming in or if someone is spamming a system. So, the performance must be monitored to react to abnormal data and unusual behavior (using an anomally detection algorithm)."
   ]
  },
  {
   "cell_type": "markdown",
   "metadata": {},
   "source": [
    "### Instance-Based Versus Model-Based Learning"
   ]
  },
  {
   "cell_type": "markdown",
   "metadata": {},
   "source": [
    "ML systems can be categorized based on how they <i>generalize</i>. There are two main approaches:"
   ]
  },
  {
   "cell_type": "markdown",
   "metadata": {},
   "source": [
    "#### Instance-based learning"
   ]
  },
  {
   "cell_type": "markdown",
   "metadata": {},
   "source": [
    "<i> measure of similarity</i> \n",
    "<br>\n",
    "<i> instance-based learning </i> - the system learns the examples by heart, then generalizes the new cases using a similarity measure."
   ]
  },
  {
   "cell_type": "markdown",
   "metadata": {},
   "source": [
    "#### Model-based learning"
   ]
  },
  {
   "cell_type": "markdown",
   "metadata": {},
   "source": [
    "<i> model-based learning </i> - build a model of these examples, then use that model to make <i>predictions</i>."
   ]
  },
  {
   "cell_type": "markdown",
   "metadata": {},
   "source": [
    "<i> model selection </i> - creating a model to see if it fits a set of data\n",
    "<br>\n",
    "<i> linear model </i>\n",
    "<br>\n",
    "<i> utility function</i> (or <i> fitness function</i>) - measures how good your model is\n",
    "<br>\n",
    "<i> cost function </i> - measure how bad your model is\n",
    "<br>\n",
    "<i> training </i> - feed in training data so that the model finds the parameters that make the linear model fit best to your data."
   ]
  },
  {
   "cell_type": "code",
   "execution_count": null,
   "metadata": {},
   "outputs": [],
   "source": [
    "import matplotlib\n",
    "import matplotlib.pyplot as plt\n",
    "import numpy as np\n",
    "import pandas as pd\n",
    "import sklearn"
   ]
  }
 ],
 "metadata": {
  "kernelspec": {
   "display_name": "Python 3",
   "language": "python",
   "name": "python3"
  },
  "language_info": {
   "codemirror_mode": {
    "name": "ipython",
    "version": 3
   },
   "file_extension": ".py",
   "mimetype": "text/x-python",
   "name": "python",
   "nbconvert_exporter": "python",
   "pygments_lexer": "ipython3",
   "version": "3.6.4"
  }
 },
 "nbformat": 4,
 "nbformat_minor": 2
}
