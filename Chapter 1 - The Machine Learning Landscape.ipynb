{
 "cells": [
  {
   "cell_type": "markdown",
   "metadata": {},
   "source": [
    "### The Machine Learning Landscape"
   ]
  },
  {
   "cell_type": "markdown",
   "metadata": {},
   "source": [
    "<b>Definition</b><br>\n",
    "Machine Learning is the field of study that gives computers the ability to learn without being explicity programmed.\n",
    "<br>\n",
    "<br>\n",
    "<i> training set </i> - examples that the system uses to learn\n",
    "<br>\n",
    "<i> training instance </i> - each training example\n",
    "<br>\n",
    "<i> accuracy </i> - performance measure of model\n",
    "<br><br>\n",
    "Example)<br>\n",
    "Task (T) is set to flag spam for new emails, the experience (E) is the training data, and the performance measure (P) could be the ratio of correctly classified emails."
   ]
  },
  {
   "cell_type": "markdown",
   "metadata": {},
   "source": [
    "### Why Use Machine Learning?"
   ]
  },
  {
   "cell_type": "markdown",
   "metadata": {},
   "source": [
    "<ul>\n",
    "<li> Good for systems that require a lot of hand-tuning or long lists of rules. Code is simplified and performs better. </li>\n",
    "<li> Complex problems where there is no good solution using traditional approach. </i>\n",
    "<li> Fluctuating environments - ML can adapt </li>\n",
    "<li> Gaining insights about complex problems & large amounts of data. </i>\n",
    "</ul>"
   ]
  },
  {
   "cell_type": "markdown",
   "metadata": {},
   "source": [
    "### Types of Machine Learning Systems:"
   ]
  },
  {
   "cell_type": "markdown",
   "metadata": {},
   "source": [
    "### Supervised/Unsupervised Learning"
   ]
  },
  {
   "cell_type": "markdown",
   "metadata": {},
   "source": [
    "Can be classified based on amount/type of supervision used during training. Four major categories."
   ]
  },
  {
   "cell_type": "markdown",
   "metadata": {},
   "source": [
    "#### Supervised Learning"
   ]
  },
  {
   "cell_type": "markdown",
   "metadata": {},
   "source": [
    "<i> supervised learning </i> - training data used to feed algorithm contains the desired solutions."
   ]
  },
  {
   "cell_type": "markdown",
   "metadata": {},
   "source": [
    "<i>Classification</i> is an example.<br>\n",
    "Another is to predict a <i>target</i> numeric value, given a set of <i>features</i> called <i>predictors</i>. This type of task is called <i>regression</i>."
   ]
  },
  {
   "cell_type": "markdown",
   "metadata": {},
   "source": [
    "Note:<br>\n",
    "    In ML, an <i>attribute</i> is a data type (ex: \"Mileage\"), while a <i> feature </i> has several meanings depending on context, but usually means and attribute plus its value (ex: Milage = 15,000). Many people use the word interchangeably."
   ]
  },
  {
   "cell_type": "code",
   "execution_count": null,
   "metadata": {},
   "outputs": [],
   "source": []
  }
 ],
 "metadata": {
  "kernelspec": {
   "display_name": "Python 3",
   "language": "python",
   "name": "python3"
  },
  "language_info": {
   "codemirror_mode": {
    "name": "ipython",
    "version": 3
   },
   "file_extension": ".py",
   "mimetype": "text/x-python",
   "name": "python",
   "nbconvert_exporter": "python",
   "pygments_lexer": "ipython3",
   "version": "3.6.4"
  }
 },
 "nbformat": 4,
 "nbformat_minor": 2
}
