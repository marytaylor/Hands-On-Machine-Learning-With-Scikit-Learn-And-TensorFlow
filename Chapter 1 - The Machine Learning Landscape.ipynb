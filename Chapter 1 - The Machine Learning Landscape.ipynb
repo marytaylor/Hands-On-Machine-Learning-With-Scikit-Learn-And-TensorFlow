{
 "cells": [
  {
   "cell_type": "markdown",
   "metadata": {},
   "source": [
    "### The Machine Learning Landscape"
   ]
  },
  {
   "cell_type": "markdown",
   "metadata": {},
   "source": [
    "<b>Definition</b><br>\n",
    "Machine Learning is the field of study that gives computers the ability to learn without being explicity programmed.\n",
    "<br>\n",
    "<br>\n",
    "<i> training set </i> - examples that the system uses to learn\n",
    "<br>\n",
    "<i> training instance </i> - each training example\n",
    "<br>\n",
    "<i> accuracy </i> - performance measure of model\n",
    "<br><br>\n",
    "Example)<br>\n",
    "Task (T) is set to flag spam for new emails, the experience (E) is the training data, and the performance measure (P) could be the ratio of correctly classified emails."
   ]
  },
  {
   "cell_type": "markdown",
   "metadata": {},
   "source": [
    "### Why Use Machine Learning?"
   ]
  },
  {
   "cell_type": "markdown",
   "metadata": {},
   "source": [
    "<ul>\n",
    "<li> Good for systems that require a lot of hand-tuning or long lists of rules. Code is simplified and performs better. </li>\n",
    "<li> Complex problems where there is no good solution using traditional approach. </i>\n",
    "<li> Fluctuating environments - ML can adapt </li>\n",
    "<li> Gaining insights about complex problems & large amounts of data. </i>\n",
    "</ul>"
   ]
  },
  {
   "cell_type": "markdown",
   "metadata": {},
   "source": [
    "### Types of Machine Learning Systems:"
   ]
  },
  {
   "cell_type": "markdown",
   "metadata": {},
   "source": [
    "### Supervised/Unsupervised Learning"
   ]
  },
  {
   "cell_type": "markdown",
   "metadata": {},
   "source": [
    "Can be classified based on amount/type of supervision used during training. Four major categories."
   ]
  },
  {
   "cell_type": "markdown",
   "metadata": {},
   "source": [
    "#### Supervised Learning"
   ]
  },
  {
   "cell_type": "markdown",
   "metadata": {},
   "source": [
    "<i> supervised learning </i> - training data used to feed algorithm contains the desired solutions."
   ]
  },
  {
   "cell_type": "markdown",
   "metadata": {},
   "source": [
    "<i>Classification</i> is an example.<br>\n",
    "Another is to predict a <i>target</i> numeric value, given a set of <i>features</i> called <i>predictors</i>. This type of task is called <i>regression</i>.\n",
    "<br>\n",
    "Some regression algorithms can be used for classificiation as well."
   ]
  },
  {
   "cell_type": "markdown",
   "metadata": {},
   "source": [
    "Note:<br>\n",
    "    In ML, an <i>attribute</i> is a data type (ex: \"Mileage\"), while a <i> feature </i> has several meanings depending on context, but usually means and attribute plus its value (ex: Milage = 15,000). Many people use the word interchangeably."
   ]
  },
  {
   "cell_type": "markdown",
   "metadata": {},
   "source": [
    "Some of the most important supervised learning algorithms (covered in the book):\n",
    "<br>\n",
    "<ul>\n",
    "<li> k-Nearest Neighbors </li>\n",
    "<li> Linear Regression </li>\n",
    "<li> Logistic Regression </li>\n",
    "<li> Support Vector Machines (SVMs)</li>\n",
    "<li> Decision Trees and Random Forests </li>\n",
    "<li> Neural Networks$^{2}$ </li>\n",
    "</ul>"
   ]
  },
  {
   "cell_type": "markdown",
   "metadata": {},
   "source": [
    "#### Unsupervised Learning"
   ]
  },
  {
   "cell_type": "markdown",
   "metadata": {},
   "source": [
    "<i>Unsupervised learning </i> - the training data is unlabeled and the system learns on its own."
   ]
  },
  {
   "cell_type": "markdown",
   "metadata": {},
   "source": [
    "<ul>\n",
    "<li>Clustering</li>\n",
    "         - k-Means\n",
    "<br>     - Hierarchical Cluster Analysis (HCA)\n",
    "<br>     - Expectation Maximization\n",
    "<br>    \n",
    "<li>Visualization and dimensionality reduction</li>\n",
    "         - Principal Component Analysis (PCA)\n",
    "<br>     - Kernel PCA\n",
    "<br>     - Locally-Linear Embedding (LLE)\n",
    "<br>     - t-distributed Stochastic Neighbor Embedding (t-SNE)\n",
    "<br>    \n",
    "<li>Association rule learning</li>\n",
    "         - Apirori\n",
    "<br>     - Eclat\n",
    "</ul>"
   ]
  },
  {
   "cell_type": "code",
   "execution_count": null,
   "metadata": {},
   "outputs": [],
   "source": []
  }
 ],
 "metadata": {
  "kernelspec": {
   "display_name": "Python 3",
   "language": "python",
   "name": "python3"
  },
  "language_info": {
   "codemirror_mode": {
    "name": "ipython",
    "version": 3
   },
   "file_extension": ".py",
   "mimetype": "text/x-python",
   "name": "python",
   "nbconvert_exporter": "python",
   "pygments_lexer": "ipython3",
   "version": "3.6.4"
  }
 },
 "nbformat": 4,
 "nbformat_minor": 2
}
