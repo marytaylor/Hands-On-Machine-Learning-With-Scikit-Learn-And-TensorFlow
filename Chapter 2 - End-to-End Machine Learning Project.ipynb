{
 "cells": [
  {
   "cell_type": "markdown",
   "metadata": {},
   "source": [
    "This chapter will go through an example machine learning project from start to end. The main steps are recapped as the following:\n",
    "<br>\n",
    "<ol>\n",
    "    <li> Look at the big picture. </li>\n",
    "    <li> Get the data. </li>\n",
    "    <li> Discover and visualize the data to gain insights. </li>\n",
    "    <li> Prepare the data for Machine Learning algorithms. </li>\n",
    "    <li> Select a model and train it. </li>\n",
    "    <li> Fine-tune your model. </li>\n",
    "    <li> Present your solution. </li>\n",
    "    <li> Launch, monitor, and maintain your system. </li>\n",
    "</ol>"
   ]
  },
  {
   "cell_type": "markdown",
   "metadata": {},
   "source": [
    "The book suggested using a checklist and they offer one in the back of the book."
   ]
  },
  {
   "cell_type": "markdown",
   "metadata": {},
   "source": [
    "<b>Business Objective</b>: Determine if a given area is worth investing in by building a model to predict a district's median housing price."
   ]
  },
  {
   "cell_type": "markdown",
   "metadata": {},
   "source": [
    "<b>What type of ML to use?</b>\n",
    "<br>This will be a supervised learning task (because we are using labeled data). We need to predict values so this will be a regression task; specifically multivariate regression because the system uses several features. Also, there is no continous flow of data so this will use batch learning and not online learning."
   ]
  },
  {
   "cell_type": "markdown",
   "metadata": {},
   "source": [
    "<b> Performance measure </b> : Usually use the Root Mean Square Error (RMSE) or Mean Absolute Error (MAE)."
   ]
  },
  {
   "cell_type": "code",
   "execution_count": 3,
   "metadata": {},
   "outputs": [],
   "source": [
    "# we need to fetch the data so we will use a small script to download a .tgz file \n",
    "#and export a .csv from it.\n",
    "import os\n",
    "import tarfile\n",
    "from six.moves import urllib\n",
    "\n",
    "DOWNLOAD_ROOT = \"https://raw.githubusercontent.com/ageron/handson-ml/master/\"\n",
    "HOUSING_PATH = os.path.join(\"datasets\", \"housing\")\n",
    "HOUSING_URL = DOWNLOAD_ROOT + \"datasets/housing/housing.tgz\"\n",
    "\n",
    "# create function that creates a datasets/housing directory in our workspace, downloads \n",
    "# the .tgz file, and then extracts the .csv from the directory\n",
    "def fetch_housing_data(housing_url=HOUSING_URL, housing_path=HOUSING_PATH):\n",
    "    if not os.path.isdir(housing_path):\n",
    "        os.makedirs(housing_path)\n",
    "    tgz_path = os.path.join(housing_path, \"housing.tgz\")\n",
    "    urllib.request.urlretrieve(housing_url, tgz_path)\n",
    "    housing_tgz = tarfile.open(tgz_path)\n",
    "    housing_tgz.extractall(path=housing_path)\n",
    "    housing_tgz.close()"
   ]
  },
  {
   "cell_type": "code",
   "execution_count": 5,
   "metadata": {},
   "outputs": [],
   "source": [
    "import pandas as pd\n",
    "\n",
    "# create function that returns our data in a pandas DataFrame\n",
    "def load_housing_data(housing_path=HOUSING_PATH):\n",
    "    csv_path = os.path.join(housing_path, \"housing.csv\")\n",
    "    return pd.read_csv(csv_path)"
   ]
  },
  {
   "cell_type": "code",
   "execution_count": null,
   "metadata": {},
   "outputs": [],
   "source": []
  }
 ],
 "metadata": {
  "kernelspec": {
   "display_name": "Python 3",
   "language": "python",
   "name": "python3"
  },
  "language_info": {
   "codemirror_mode": {
    "name": "ipython",
    "version": 3
   },
   "file_extension": ".py",
   "mimetype": "text/x-python",
   "name": "python",
   "nbconvert_exporter": "python",
   "pygments_lexer": "ipython3",
   "version": "3.6.4"
  }
 },
 "nbformat": 4,
 "nbformat_minor": 2
}
